{
  "cells": [
    {
      "cell_type": "markdown",
      "source": [
        "###STATISTICS FOR DATA SCIENCE\n",
        "*Interpreting Insight Through Statistics*"
      ],
      "metadata": {
        "id": "-mGeazSCd6R-"
      },
      "id": "-mGeazSCd6R-"
    },
    {
      "cell_type": "code",
      "execution_count": null,
      "id": "226d3c23",
      "metadata": {
        "id": "226d3c23",
        "outputId": "36baa2ba-955b-4cef-bc52-b51956b14888"
      },
      "outputs": [
        {
          "data": {
            "text/html": [
              "<div>\n",
              "<style scoped>\n",
              "    .dataframe tbody tr th:only-of-type {\n",
              "        vertical-align: middle;\n",
              "    }\n",
              "\n",
              "    .dataframe tbody tr th {\n",
              "        vertical-align: top;\n",
              "    }\n",
              "\n",
              "    .dataframe thead th {\n",
              "        text-align: right;\n",
              "    }\n",
              "</style>\n",
              "<table border=\"1\" class=\"dataframe\">\n",
              "  <thead>\n",
              "    <tr style=\"text-align: right;\">\n",
              "      <th></th>\n",
              "      <th>Id</th>\n",
              "      <th>SalePrice</th>\n",
              "    </tr>\n",
              "  </thead>\n",
              "  <tbody>\n",
              "    <tr>\n",
              "      <th>0</th>\n",
              "      <td>1461</td>\n",
              "      <td>169277.052498</td>\n",
              "    </tr>\n",
              "    <tr>\n",
              "      <th>1</th>\n",
              "      <td>1462</td>\n",
              "      <td>187758.393989</td>\n",
              "    </tr>\n",
              "    <tr>\n",
              "      <th>2</th>\n",
              "      <td>1463</td>\n",
              "      <td>183583.683570</td>\n",
              "    </tr>\n",
              "    <tr>\n",
              "      <th>3</th>\n",
              "      <td>1464</td>\n",
              "      <td>179317.477511</td>\n",
              "    </tr>\n",
              "    <tr>\n",
              "      <th>4</th>\n",
              "      <td>1465</td>\n",
              "      <td>150730.079977</td>\n",
              "    </tr>\n",
              "    <tr>\n",
              "      <th>...</th>\n",
              "      <td>...</td>\n",
              "      <td>...</td>\n",
              "    </tr>\n",
              "    <tr>\n",
              "      <th>1454</th>\n",
              "      <td>2915</td>\n",
              "      <td>167081.220949</td>\n",
              "    </tr>\n",
              "    <tr>\n",
              "      <th>1455</th>\n",
              "      <td>2916</td>\n",
              "      <td>164788.778231</td>\n",
              "    </tr>\n",
              "    <tr>\n",
              "      <th>1456</th>\n",
              "      <td>2917</td>\n",
              "      <td>219222.423400</td>\n",
              "    </tr>\n",
              "    <tr>\n",
              "      <th>1457</th>\n",
              "      <td>2918</td>\n",
              "      <td>184924.279659</td>\n",
              "    </tr>\n",
              "    <tr>\n",
              "      <th>1458</th>\n",
              "      <td>2919</td>\n",
              "      <td>187741.866657</td>\n",
              "    </tr>\n",
              "  </tbody>\n",
              "</table>\n",
              "<p>1459 rows × 2 columns</p>\n",
              "</div>"
            ],
            "text/plain": [
              "        Id      SalePrice\n",
              "0     1461  169277.052498\n",
              "1     1462  187758.393989\n",
              "2     1463  183583.683570\n",
              "3     1464  179317.477511\n",
              "4     1465  150730.079977\n",
              "...    ...            ...\n",
              "1454  2915  167081.220949\n",
              "1455  2916  164788.778231\n",
              "1456  2917  219222.423400\n",
              "1457  2918  184924.279659\n",
              "1458  2919  187741.866657\n",
              "\n",
              "[1459 rows x 2 columns]"
            ]
          },
          "execution_count": 77,
          "metadata": {},
          "output_type": "execute_result"
        }
      ],
      "source": [
        "import pandas as pd\n",
        "import numpy as np\n",
        "import seaborn as sns\n",
        "import matplotlib.pyplot as plt\n",
        "import warnings\n",
        "warnings.filterwarnings('ignore')\n",
        "\n",
        "df = pd.read_csv(r\"E:\\MINE\\beasiswa\\2022\\DATA BANGLORE\\ON BOARDING\\EXAM + TASK\\6 - STATISTIC FOR DATA SCIENCE\\sample_submission.csv\")\n",
        "df"
      ]
    },
    {
      "cell_type": "markdown",
      "source": [
        "#####Checking Data Condition"
      ],
      "metadata": {
        "id": "kFv8sVrYjZIF"
      },
      "id": "kFv8sVrYjZIF"
    },
    {
      "cell_type": "code",
      "execution_count": null,
      "id": "4200107d",
      "metadata": {
        "id": "4200107d",
        "outputId": "b8775322-54d5-4f88-d43c-9584297643fc"
      },
      "outputs": [
        {
          "name": "stdout",
          "output_type": "stream",
          "text": [
            "<class 'pandas.core.frame.DataFrame'>\n",
            "RangeIndex: 1459 entries, 0 to 1458\n",
            "Data columns (total 2 columns):\n",
            " #   Column     Non-Null Count  Dtype  \n",
            "---  ------     --------------  -----  \n",
            " 0   Id         1459 non-null   int64  \n",
            " 1   SalePrice  1459 non-null   float64\n",
            "dtypes: float64(1), int64(1)\n",
            "memory usage: 22.9 KB\n"
          ]
        }
      ],
      "source": [
        "df.info()"
      ]
    },
    {
      "cell_type": "code",
      "execution_count": null,
      "id": "1286518d",
      "metadata": {
        "id": "1286518d",
        "outputId": "e87081ef-9a16-4a60-e61e-1198ff482dd7"
      },
      "outputs": [
        {
          "data": {
            "text/plain": [
              "Id           0\n",
              "SalePrice    0\n",
              "dtype: int64"
            ]
          },
          "execution_count": 79,
          "metadata": {},
          "output_type": "execute_result"
        }
      ],
      "source": [
        "df.isnull().sum()"
      ]
    },
    {
      "cell_type": "markdown",
      "id": "2d6739d4",
      "metadata": {
        "id": "2d6739d4"
      },
      "source": [
        "#####Interpreting Data Through Descriptive Statistics"
      ]
    },
    {
      "cell_type": "code",
      "execution_count": null,
      "id": "16909134",
      "metadata": {
        "id": "16909134",
        "outputId": "c30f07f2-8bc1-472f-ecc1-dcbd865ab2d8"
      },
      "outputs": [
        {
          "data": {
            "text/html": [
              "<div>\n",
              "<style scoped>\n",
              "    .dataframe tbody tr th:only-of-type {\n",
              "        vertical-align: middle;\n",
              "    }\n",
              "\n",
              "    .dataframe tbody tr th {\n",
              "        vertical-align: top;\n",
              "    }\n",
              "\n",
              "    .dataframe thead th {\n",
              "        text-align: right;\n",
              "    }\n",
              "</style>\n",
              "<table border=\"1\" class=\"dataframe\">\n",
              "  <thead>\n",
              "    <tr style=\"text-align: right;\">\n",
              "      <th></th>\n",
              "      <th>SalePrice</th>\n",
              "    </tr>\n",
              "  </thead>\n",
              "  <tbody>\n",
              "    <tr>\n",
              "      <th>count</th>\n",
              "      <td>1459.000000</td>\n",
              "    </tr>\n",
              "    <tr>\n",
              "      <th>mean</th>\n",
              "      <td>179183.918243</td>\n",
              "    </tr>\n",
              "    <tr>\n",
              "      <th>std</th>\n",
              "      <td>16518.303051</td>\n",
              "    </tr>\n",
              "    <tr>\n",
              "      <th>min</th>\n",
              "      <td>135751.318893</td>\n",
              "    </tr>\n",
              "    <tr>\n",
              "      <th>25%</th>\n",
              "      <td>168703.011202</td>\n",
              "    </tr>\n",
              "    <tr>\n",
              "      <th>50%</th>\n",
              "      <td>179208.665698</td>\n",
              "    </tr>\n",
              "    <tr>\n",
              "      <th>75%</th>\n",
              "      <td>186789.409363</td>\n",
              "    </tr>\n",
              "    <tr>\n",
              "      <th>max</th>\n",
              "      <td>281643.976117</td>\n",
              "    </tr>\n",
              "  </tbody>\n",
              "</table>\n",
              "</div>"
            ],
            "text/plain": [
              "           SalePrice\n",
              "count    1459.000000\n",
              "mean   179183.918243\n",
              "std     16518.303051\n",
              "min    135751.318893\n",
              "25%    168703.011202\n",
              "50%    179208.665698\n",
              "75%    186789.409363\n",
              "max    281643.976117"
            ]
          },
          "execution_count": 262,
          "metadata": {},
          "output_type": "execute_result"
        }
      ],
      "source": [
        "hargaRumah = df[['SalePrice']]\n",
        "hargaRumah.describe()"
      ]
    },
    {
      "cell_type": "code",
      "execution_count": null,
      "id": "b2a0b7d5",
      "metadata": {
        "id": "b2a0b7d5",
        "outputId": "4f7a0b31-2ec3-49d2-aded-f6a1840eb5bf"
      },
      "outputs": [
        {
          "data": {
            "text/html": [
              "<div>\n",
              "<style scoped>\n",
              "    .dataframe tbody tr th:only-of-type {\n",
              "        vertical-align: middle;\n",
              "    }\n",
              "\n",
              "    .dataframe tbody tr th {\n",
              "        vertical-align: top;\n",
              "    }\n",
              "\n",
              "    .dataframe thead th {\n",
              "        text-align: right;\n",
              "    }\n",
              "</style>\n",
              "<table border=\"1\" class=\"dataframe\">\n",
              "  <thead>\n",
              "    <tr style=\"text-align: right;\">\n",
              "      <th></th>\n",
              "      <th>SalePrice</th>\n",
              "    </tr>\n",
              "  </thead>\n",
              "  <tbody>\n",
              "    <tr>\n",
              "      <th>0</th>\n",
              "      <td>174126.297156</td>\n",
              "    </tr>\n",
              "    <tr>\n",
              "      <th>1</th>\n",
              "      <td>174388.867433</td>\n",
              "    </tr>\n",
              "  </tbody>\n",
              "</table>\n",
              "</div>"
            ],
            "text/plain": [
              "       SalePrice\n",
              "0  174126.297156\n",
              "1  174388.867433"
            ]
          },
          "execution_count": 265,
          "metadata": {},
          "output_type": "execute_result"
        }
      ],
      "source": [
        "hargaRumah.mode()"
      ]
    },
    {
      "cell_type": "code",
      "execution_count": null,
      "id": "0f13355a",
      "metadata": {
        "id": "0f13355a",
        "outputId": "6e5d9459-13c1-46eb-9151-b28ca2424b32"
      },
      "outputs": [
        {
          "data": {
            "text/plain": [
              "SalePrice    2.728543e+08\n",
              "dtype: float64"
            ]
          },
          "execution_count": 266,
          "metadata": {},
          "output_type": "execute_result"
        }
      ],
      "source": [
        "hargaRumah.var()"
      ]
    },
    {
      "cell_type": "code",
      "execution_count": null,
      "id": "a2640984",
      "metadata": {
        "id": "a2640984",
        "outputId": "8d3beb6f-6a29-42e1-a40e-6fb531fea6b0"
      },
      "outputs": [
        {
          "data": {
            "text/plain": [
              "SalePrice    18086.398162\n",
              "dtype: float64"
            ]
          },
          "execution_count": 280,
          "metadata": {},
          "output_type": "execute_result"
        }
      ],
      "source": [
        "hargaRumah.quantile(0.75) - hargaRumah.quantile(0.25)"
      ]
    },
    {
      "cell_type": "code",
      "execution_count": null,
      "id": "79c4ce58",
      "metadata": {
        "id": "79c4ce58",
        "outputId": "ffdb90bb-8a8d-491d-cc6f-0678b37a7868"
      },
      "outputs": [
        {
          "data": {
            "image/png": "[encoded data removed]",
            "text/plain": [
              "<Figure size 576x288 with 1 Axes>"
            ]
          },
          "metadata": {
            "needs_background": "light"
          },
          "output_type": "display_data"
        }
      ],
      "source": [
        "plt.figure(figsize=(8,4))\n",
        "sns.boxplot(x=\"SalePrice\", data=hargaRumah)\n",
        "plt.show()"
      ]
    },
    {
      "cell_type": "code",
      "execution_count": null,
      "id": "a90b3fc9",
      "metadata": {
        "id": "a90b3fc9",
        "outputId": "cb818335-e907-452a-d424-7130c373f167"
      },
      "outputs": [
        {
          "data": {
            "text/plain": [
              "<AxesSubplot:xlabel='SalePrice', ylabel='Density'>"
            ]
          },
          "execution_count": 269,
          "metadata": {},
          "output_type": "execute_result"
        },
        {
          "data": {
            "image/png": "[encoded data removed]",
            "text/plain": [
              "<Figure size 432x288 with 1 Axes>"
            ]
          },
          "metadata": {
            "needs_background": "light"
          },
          "output_type": "display_data"
        }
      ],
      "source": [
        "sns.distplot(hargaRumah[\"SalePrice\"], hist = False)"
      ]
    },
    {
      "cell_type": "markdown",
      "id": "0c7a4784",
      "metadata": {
        "id": "0c7a4784"
      },
      "source": [
        "Interpretasi:\n",
        "1. Diketahui pada data nilai median lebih besar dari modus,  \n",
        "   oleh karena itu distribusi data memiliki skew positif, menandakan bahwa pada \n",
        "   data terdapat Outlier yang harus di handle, baik outlier berupa \n",
        "   minimum value maupun maximum value.\n",
        "2. Pada gambar, terlihat pula bahwa grafik cenderung lancip menandakan distribusi data tidak merata dan terdapat indikasi outlier dalam intensitas yang banyak\n",
        "3. Nilai jangkauan pada data yakni 18086.398162 yang merepresentasikan 50% range nilai pada data\n",
        "4. Data tersebut termasuk ke dalam jenis data yang memiliki varian walaupun dengan intensitas yang minim, yang dapat dilihat dari nilai standar deviasi yang lebih kecil dari mean"
      ]
    },
    {
      "cell_type": "code",
      "execution_count": null,
      "id": "6b11e30f",
      "metadata": {
        "id": "6b11e30f",
        "outputId": "60eae09f-4a77-435f-9ca8-db0ffb465ecc"
      },
      "outputs": [
        {
          "data": {
            "image/png": "[encoded data removed]",
            "text/plain": [
              "<Figure size 504x360 with 1 Axes>"
            ]
          },
          "metadata": {
            "needs_background": "light"
          },
          "output_type": "display_data"
        }
      ],
      "source": [
        "#Histogram Plot\n",
        "plt.figure(figsize=(7,5))\n",
        "plt.hist(hargaRumah[\"SalePrice\"])\n",
        "plt.show()"
      ]
    },
    {
      "cell_type": "code",
      "execution_count": null,
      "id": "e8fa02b2",
      "metadata": {
        "id": "e8fa02b2",
        "outputId": "14d87b3c-6840-45fd-ad39-baf9af71b5de"
      },
      "outputs": [
        {
          "data": {
            "text/plain": [
              "<AxesSubplot:xlabel='SalePrice', ylabel='Density'>"
            ]
          },
          "execution_count": 273,
          "metadata": {},
          "output_type": "execute_result"
        },
        {
          "data": {
            "image/png": "[encoded data removed]",
            "text/plain": [
              "<Figure size 432x288 with 1 Axes>"
            ]
          },
          "metadata": {
            "needs_background": "light"
          },
          "output_type": "display_data"
        }
      ],
      "source": [
        "sns.distplot(hargaRumah[\"SalePrice\"])"
      ]
    },
    {
      "cell_type": "code",
      "execution_count": null,
      "id": "64b4f2d6",
      "metadata": {
        "id": "64b4f2d6",
        "outputId": "d0cefb92-2c46-47d1-e823-267f2b2129a3"
      },
      "outputs": [
        {
          "data": {
            "text/plain": [
              "<seaborn.axisgrid.PairGrid at 0x1328e8f5430>"
            ]
          },
          "execution_count": 282,
          "metadata": {},
          "output_type": "execute_result"
        },
        {
          "data": {
            "text/plain": [
              "<Figure size 1080x1800 with 0 Axes>"
            ]
          },
          "metadata": {},
          "output_type": "display_data"
        },
        {
          "data": {
            "image/png": "[encoded data removed]",
            "text/plain": [
              "<Figure size 180x180 with 2 Axes>"
            ]
          },
          "metadata": {
            "needs_background": "light"
          },
          "output_type": "display_data"
        }
      ],
      "source": [
        "plt.figure(figsize=(15,25))\n",
        "sns.pairplot(hargaRumah, diag_kind=\"kde\")"
      ]
    },
    {
      "cell_type": "markdown",
      "id": "544884ba",
      "metadata": {
        "id": "544884ba"
      },
      "source": [
        "Tranformasi data:\n",
        "1. Jenis distribusi pada data diketahui memiliki skew positif, salah satu cara untuk handle data dapat dengan mengeliminasi \n",
        "   outlier.\n",
        "2. Pada data diketahui tidak terdapat missing value sehingga tidak diperlukan adanya handling missing data, melainkan \n",
        "   dibutuhkan proses transformasi data termasuk handling outlier salah satunya dengan cara scalling. \n",
        "3. Menganalisa data yang memiliki skew, *sangat disarankan tidak menggunakan MEAN* karena MEAN memiliki sifat not robust atau \n",
        "   sensitif dengan data yang memiliki outlier, sehingga proses analisis dapat menggunakan median karena *median bersifat \n",
        "   robust*. "
      ]
    },
    {
      "cell_type": "markdown",
      "id": "48a1ef93",
      "metadata": {
        "id": "48a1ef93"
      },
      "source": [
        "#####Example of How to do Hypothesis Testing"
      ]
    },
    {
      "cell_type": "code",
      "execution_count": null,
      "id": "49019cfe",
      "metadata": {
        "id": "49019cfe",
        "outputId": "af2c8964-e60a-4a1c-d217-107e0734c14b"
      },
      "outputs": [
        {
          "data": {
            "text/plain": [
              "(1459, 1)"
            ]
          },
          "execution_count": 277,
          "metadata": {},
          "output_type": "execute_result"
        }
      ],
      "source": [
        "#Example of How to Take Data Sampling \n",
        "hargaRumah.shape"
      ]
    },
    {
      "cell_type": "code",
      "execution_count": null,
      "id": "e3a9622b",
      "metadata": {
        "id": "e3a9622b",
        "outputId": "0099b06b-601f-4548-cdb4-8f95c0e06137"
      },
      "outputs": [
        {
          "data": {
            "text/plain": [
              "313.93222162452923"
            ]
          },
          "execution_count": 275,
          "metadata": {},
          "output_type": "execute_result"
        }
      ],
      "source": [
        "#margin of error = 0.05\n",
        "k = 1459/(1+1459*0.05**2)\n",
        "k"
      ]
    },
    {
      "cell_type": "code",
      "execution_count": null,
      "id": "6fee8038",
      "metadata": {
        "id": "6fee8038",
        "outputId": "d09ed306-7bc0-4608-88c4-b9c5c2e6899d"
      },
      "outputs": [
        {
          "data": {
            "text/html": [
              "<div>\n",
              "<style scoped>\n",
              "    .dataframe tbody tr th:only-of-type {\n",
              "        vertical-align: middle;\n",
              "    }\n",
              "\n",
              "    .dataframe tbody tr th {\n",
              "        vertical-align: top;\n",
              "    }\n",
              "\n",
              "    .dataframe thead th {\n",
              "        text-align: right;\n",
              "    }\n",
              "</style>\n",
              "<table border=\"1\" class=\"dataframe\">\n",
              "  <thead>\n",
              "    <tr style=\"text-align: right;\">\n",
              "      <th></th>\n",
              "      <th>SalePrice</th>\n",
              "    </tr>\n",
              "  </thead>\n",
              "  <tbody>\n",
              "    <tr>\n",
              "      <th>1092</th>\n",
              "      <td>165956.259265</td>\n",
              "    </tr>\n",
              "    <tr>\n",
              "      <th>1411</th>\n",
              "      <td>148217.262541</td>\n",
              "    </tr>\n",
              "    <tr>\n",
              "      <th>1351</th>\n",
              "      <td>178498.634450</td>\n",
              "    </tr>\n",
              "    <tr>\n",
              "      <th>111</th>\n",
              "      <td>178425.956139</td>\n",
              "    </tr>\n",
              "    <tr>\n",
              "      <th>355</th>\n",
              "      <td>159650.304286</td>\n",
              "    </tr>\n",
              "    <tr>\n",
              "      <th>...</th>\n",
              "      <td>...</td>\n",
              "    </tr>\n",
              "    <tr>\n",
              "      <th>750</th>\n",
              "      <td>163081.025723</td>\n",
              "    </tr>\n",
              "    <tr>\n",
              "      <th>692</th>\n",
              "      <td>181416.732376</td>\n",
              "    </tr>\n",
              "    <tr>\n",
              "      <th>890</th>\n",
              "      <td>168538.969496</td>\n",
              "    </tr>\n",
              "    <tr>\n",
              "      <th>1275</th>\n",
              "      <td>182997.570116</td>\n",
              "    </tr>\n",
              "    <tr>\n",
              "      <th>1152</th>\n",
              "      <td>170871.094939</td>\n",
              "    </tr>\n",
              "  </tbody>\n",
              "</table>\n",
              "<p>314 rows × 1 columns</p>\n",
              "</div>"
            ],
            "text/plain": [
              "          SalePrice\n",
              "1092  165956.259265\n",
              "1411  148217.262541\n",
              "1351  178498.634450\n",
              "111   178425.956139\n",
              "355   159650.304286\n",
              "...             ...\n",
              "750   163081.025723\n",
              "692   181416.732376\n",
              "890   168538.969496\n",
              "1275  182997.570116\n",
              "1152  170871.094939\n",
              "\n",
              "[314 rows x 1 columns]"
            ]
          },
          "execution_count": 278,
          "metadata": {},
          "output_type": "execute_result"
        }
      ],
      "source": [
        "Sample_hR = hargaRumah.sample(314)\n",
        "Sample_hR"
      ]
    },
    {
      "cell_type": "markdown",
      "id": "429b3349",
      "metadata": {
        "id": "429b3349"
      },
      "source": [
        "###### Statement 1 : apakah data 'hargaRumah' berdistribusi normal ?\n",
        "H0 = Data 'hargaRumah' berdistribusi normal\n",
        "\n",
        "H1 = Data 'hargaRumah' *tidak* berdistribusi normal"
      ]
    },
    {
      "cell_type": "code",
      "execution_count": null,
      "id": "2048aa07",
      "metadata": {
        "id": "2048aa07",
        "outputId": "0d477472-328b-4c59-ef4f-605749019357"
      },
      "outputs": [
        {
          "name": "stdout",
          "output_type": "stream",
          "text": [
            "stat=0.95, p=0.00\n",
            "Data Tidak Berdistribusi Normal\n"
          ]
        }
      ],
      "source": [
        "#Performing the Normality Test with Sharpio method\n",
        "from scipy.stats import shapiro\n",
        "stat, Pvalue= shapiro(hargaRumah)\n",
        "print(\"stat=%.2f, p=%.2f\" % (stat, p))\n",
        "\n",
        "if Pvalue > 0.05 :\n",
        "    print(\"Data Berdistribusi Normal\") #Menolak H1\n",
        "else :\n",
        "    print(\"Data Tidak Berdistribusi Normal\") #Menolak H0"
      ]
    },
    {
      "cell_type": "markdown",
      "id": "ecb362d1",
      "metadata": {
        "id": "ecb362d1"
      },
      "source": [
        "###### Statement 2 : apakah data 'Sample_hR' berdistribusi normal ?\n",
        "H0 = Data 'Sample_hR' berdistribusi normal\n",
        "\n",
        "H1 = Data 'Sample_hR' *tidak* berdistribusi normal"
      ]
    },
    {
      "cell_type": "code",
      "execution_count": null,
      "id": "6a1539de",
      "metadata": {
        "id": "6a1539de",
        "outputId": "c6c9fb17-81c8-4cfe-eb32-e6fd021f982f"
      },
      "outputs": [
        {
          "name": "stdout",
          "output_type": "stream",
          "text": [
            "stat=0.98, p=0.00\n",
            "Data Tidak Berdistribusi Normal\n"
          ]
        }
      ],
      "source": [
        "#Performing the Normality Test with Sharpio method\n",
        "from scipy.stats import shapiro\n",
        "stat, Pvalue= shapiro(Sample_hR)\n",
        "print(\"stat=%.2f, p=%.2f\" % (stat, p))\n",
        "\n",
        "if Pvalue > 0.05 :\n",
        "    print(\"Data Berdistribusi Normal\") #Menolak H1\n",
        "else :\n",
        "    print(\"Data Tidak Berdistribusi Normal\") #Menolak H0"
      ]
    }
  ],
  "metadata": {
    "kernelspec": {
      "display_name": "Python 3 (ipykernel)",
      "language": "python",
      "name": "python3"
    },
    "language_info": {
      "codemirror_mode": {
        "name": "ipython",
        "version": 3
      },
      "file_extension": ".py",
      "mimetype": "text/x-python",
      "name": "python",
      "nbconvert_exporter": "python",
      "pygments_lexer": "ipython3",
      "version": "3.9.7"
    },
    "colab": {
      "provenance": []
    }
  },
  "nbformat": 4,
  "nbformat_minor": 5
}