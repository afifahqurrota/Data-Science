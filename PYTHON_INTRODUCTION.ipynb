{
  "cells": [
    {
      "cell_type": "code",
      "execution_count": null,
      "id": "ef04f534",
      "metadata": {
        "id": "ef04f534"
      },
      "outputs": [],
      "source": [
        "UNDERSTANDING PYTHON INTRODUCTION"
      ]
    },
    {
      "cell_type": "code",
      "execution_count": null,
      "id": "394b0aca",
      "metadata": {
        "id": "394b0aca",
        "outputId": "22311c79-9456-4bec-c92e-7208dcaa639e"
      },
      "outputs": [
        {
          "name": "stdout",
          "output_type": "stream",
          "text": [
            "['Real Madrid', 'FC Twente', 'Inter Milan', 'Bayern Munchen']\n",
            "['Carlo Ancelloti', 'Gonzalo Garcia', 'Simone Inzaghi', 'Julian Nagelsmann']\n",
            "['Spanyol', 'Belanda', 'Italia', 'Jerman']\n",
            "['Karim Benzema', 'Wout Brama', 'Hakan Calhanoglu', 'Robert Lewandowski']\n"
          ]
        }
      ],
      "source": [
        "#Example of How to Create Dictionary Variable Data Type\n",
        "\n",
        "ClubEropa = {\"nama_club\" : [\"Real Madrid\", \"FC Twente\", \"Inter Milan\", \"Bayern Munchen\"], \n",
        "             \"pelatih_club\": [\"Carlo Ancelloti\", \"Gonzalo Garcia\", \"Simone Inzaghi\", \"Julian Nagelsmann\"], \n",
        "             \"Negara\":[\"Spanyol\", \"Belanda\", \"Italia\", \"Jerman\"], \n",
        "             \"Pemain\": [\"Karim Benzema\", \"Wout Brama\", \"Hakan Calhanoglu\", \"Robert Lewandowski\"]}\n",
        "\n",
        "print(ClubEropa[\"nama_club\"])\n",
        "print(ClubEropa[\"pelatih_club\"])\n",
        "print(ClubEropa[\"Negara\"])\n",
        "print(ClubEropa[\"Pemain\"])"
      ]
    },
    {
      "cell_type": "code",
      "execution_count": null,
      "id": "3f80ea5d",
      "metadata": {
        "id": "3f80ea5d",
        "outputId": "c2aee497-cafd-4cea-b867-1500859a4c6e"
      },
      "outputs": [
        {
          "name": "stdout",
          "output_type": "stream",
          "text": [
            "{'nama_club': ['Real Madrid', 'FC Twente', 'Inter Milan', 'Bayern Munchen'], 'pelatih_club': ['Carlo Ancelloti', 'Gonzalo Garcia', 'Simone Inzaghi', 'Julian Nagelsmann'], 'Negara': ['Spanyol', 'Belanda', 'Italia', 'Jerman'], 'Pemain': ['Karim Benzema', 'Wout Brama', 'Hakan Calhanoglu', 'Robert Lewandowski'], 'sponsor': ['Fly Emirates', 'Apparel Meyba', 'socios.com', 'Deutsche Telekom']}\n"
          ]
        }
      ],
      "source": [
        "#Example of How to Add 'Key' Data Type to the Existed Variable\n",
        "\n",
        "sponsor_ClubEropa = {\"sponsor\" : [\"Fly Emirates\", \"Apparel Meyba\", \"socios.com\", \"Deutsche Telekom\"]}\n",
        "\n",
        "ClubEropa.update(sponsor_ClubEropa)\n",
        "\n",
        "print(ClubEropa)"
      ]
    },
    {
      "cell_type": "code",
      "execution_count": null,
      "id": "34406a71",
      "metadata": {
        "id": "34406a71"
      },
      "outputs": [],
      "source": [
        "#Example of How to Create Array Variable \n",
        "\n",
        "import numpy as np\n",
        "transaksi_2018 = np.array([243, 254, 265, 276, 287])\n",
        "transaksi_2019 = np.array([324, 345, 352, 355, 362])\n",
        "transaksi_2020 = np.array([413, 423, 434, 454, 464])\n",
        "transaksi_2021 = np.array([568, 579, 580, 598, 600])"
      ]
    },
    {
      "cell_type": "code",
      "execution_count": null,
      "id": "62135d22",
      "metadata": {
        "id": "62135d22",
        "outputId": "dc00bdf4-12e4-4732-88ab-dc9ab7571d2e"
      },
      "outputs": [
        {
          "name": "stdout",
          "output_type": "stream",
          "text": [
            "[100359 107442 115010 125304 133168]\n"
          ]
        }
      ],
      "source": [
        "#Example of How to Multipliy Array Variable\n",
        "print(transaksi_2018*transaksi_2020)"
      ]
    },
    {
      "cell_type": "code",
      "execution_count": null,
      "id": "c7711208",
      "metadata": {
        "id": "c7711208",
        "outputId": "5f8b9f76-a37d-4374-dc48-9418eab6bb42"
      },
      "outputs": [
        {
          "name": "stdout",
          "output_type": "stream",
          "text": [
            "[892 924 932 953 962]\n"
          ]
        }
      ],
      "source": [
        "#Example of How to Sum Up Array Variable\n",
        "print(transaksi_2019+transaksi_2021)"
      ]
    },
    {
      "cell_type": "code",
      "execution_count": null,
      "id": "72aefb7e",
      "metadata": {
        "id": "72aefb7e",
        "outputId": "02e7cef0-eb2f-4717-f34d-5214b29d3d4c"
      },
      "outputs": [
        {
          "name": "stdout",
          "output_type": "stream",
          "text": [
            "[]\n"
          ]
        }
      ],
      "source": [
        "#Example of How to Know Intersection of Variable\n",
        "print(np.intersect1d(transaksi_2018, transaksi_2021))"
      ]
    },
    {
      "cell_type": "code",
      "execution_count": null,
      "id": "1951c584",
      "metadata": {
        "id": "1951c584",
        "outputId": "9a558dbd-3eb5-4a3b-ac0d-3d8f7dd6a677"
      },
      "outputs": [
        {
          "name": "stdout",
          "output_type": "stream",
          "text": [
            "324\n",
            "352\n",
            "362\n"
          ]
        }
      ],
      "source": [
        "#Example of How to Know Index of The List Variable\n",
        "print(transaksi_2019[0])\n",
        "print(transaksi_2019[2])\n",
        "print(transaksi_2019[4])"
      ]
    },
    {
      "cell_type": "code",
      "execution_count": null,
      "id": "d12c08d2",
      "metadata": {
        "id": "d12c08d2",
        "outputId": "72196eae-8595-4ffd-a589-0e3b9a33a32d"
      },
      "outputs": [
        {
          "name": "stdout",
          "output_type": "stream",
          "text": [
            "[[75 80 70 75]\n",
            " [65 85 80 65]\n",
            " [70 75 90 80]\n",
            " [90 80 70 65]]\n"
          ]
        }
      ],
      "source": [
        "#Example of How to Substract Array Variable\n",
        "import numpy as np\n",
        "\n",
        "nilai_kelas = np.array([[80, 85, 75, 80], \n",
        "                        [70, 90, 85, 70],\n",
        "                        [75, 80, 95, 85],\n",
        "                        [95, 85, 75, 70]])\n",
        "\n",
        "nilai_menyontek = 5\n",
        "\n",
        "print(nilai_kelas - nilai_menyontek)"
      ]
    },
    {
      "cell_type": "markdown",
      "source": [
        "Python merupakan bahasa pemrograman yang dikembangkan oleh Guido Van Rossum pada tahun 1991\n",
        "dan terus mengalami pembaruan sampai saat ini. Python merupakan bahasa pemrograman yang banyak \n",
        "digunakan untuk mengembangkan situs web, melakukan proses otomatisasi, membuat game, aplikasi, \n",
        "bahkan data analisis, maka dari itu python disebut sebagai bahasa pemrograman yang general-multipurpose,\n",
        "serta termasuk dalam 3 besar bahasa pemrograman yang digunakan dalam beberapa tahun terakhir.\n",
        "\n",
        "Python memiliki bahasa pemrograman yang lebih ringkas dan sederhana sehingga kodenya dapat lebih mudah \n",
        "dipahami serta memberikan kemudahan bagi developer. Python juga bersifat open source dimana programnya \n",
        "mudah diakses untuk dipelajari dan dikembangkan serta memiliki package atau library yang memudahkan \n",
        "data scientist atau machine learning engineer dalam mengolah dan menganalisis data seperti Sci-kit Learn, \n",
        "TensorFlow, dan PyTorch. \n",
        "\n",
        "Python juga salah satu bahasa pemrograman yang banyak digunakan dan berkaitan dengan data science dan \n",
        "machine learning karena keunggulan python untuk proses prototyping dan scripting. Beberapa manfaat dan \n",
        "keunggulan bahasa pemrograman python yakni memiliki sintaksis yang sederhana dan mirip dengan bahasa inggris, \n",
        "serta ringkas apabila dibandingkan dengan bahasa pemrograman lain serta fleksibel dimana dapat dioperasikan \n",
        "pada berbagai sistem operasi. Selain itu python juga mendukung ekosistem Internet of Things. "
      ],
      "metadata": {
        "id": "xq_H6R36p-cf"
      },
      "id": "xq_H6R36p-cf"
    }
  ],
  "metadata": {
    "kernelspec": {
      "display_name": "Python 3 (ipykernel)",
      "language": "python",
      "name": "python3"
    },
    "language_info": {
      "codemirror_mode": {
        "name": "ipython",
        "version": 3
      },
      "file_extension": ".py",
      "mimetype": "text/x-python",
      "name": "python",
      "nbconvert_exporter": "python",
      "pygments_lexer": "ipython3",
      "version": "3.9.7"
    },
    "colab": {
      "provenance": []
    }
  },
  "nbformat": 4,
  "nbformat_minor": 5
}